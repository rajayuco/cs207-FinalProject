{
 "cells": [
  {
   "cell_type": "markdown",
   "metadata": {},
   "source": [
    "# Milestone 2"
   ]
  },
  {
   "cell_type": "markdown",
   "metadata": {},
   "source": [
    "## Introduction"
   ]
  },
  {
   "cell_type": "markdown",
   "metadata": {},
   "source": [
    "Being able to calculate derivatives is crucial for optimization, probabilistic inference, modeling in physics, and much more. However, functions in the real-world are often very complex, and it can be very challenging to calculate the derivative of those functions. Our automatic differentiation (AD) software computes the derivative of any function by breaking the function down into elementary functions and using chain rule (see **Background** for more details). The AD software can automatically calculate first-order derivatives, with a high accuracy to machine precision. The software has many applications, such as in sensitivity analysis, numerical methods, and machine learning. "
   ]
  },
  {
   "cell_type": "markdown",
   "metadata": {},
   "source": [
    "## Background"
   ]
  },
  {
   "cell_type": "markdown",
   "metadata": {},
   "source": [
    "Automatic differentiation is possible because any complicated function can be represented as a combination of **elementary functions**, such as addition, multiplication, exponential function, and trigonometric function. In other words,  $f(x)$ can be represented as $g_{n}(g_{n-1}(g_{n-2}(...g_1(x)))))$, where $g_i(x)$ is the value of the elementary function at x."
   ]
  },
  {
   "cell_type": "markdown",
   "metadata": {},
   "source": [
    "The **chain rule** is then applied to calculate the function's derivative. Recall that using the chain rule, the derivative of function $h\\left(u\\left(t\\right)\\right)$ is $\\dfrac{\\partial h}{\\partial t} = \\dfrac{\\partial h}{\\partial u}\\dfrac{\\partial u}{\\partial t}.$"
   ]
  },
  {
   "cell_type": "markdown",
   "metadata": {},
   "source": [
    "For example, let's say that we want to compute $f^{\\prime}\\left(\\dfrac{\\pi}{16}\\right)$ of a complicated function:\n",
    "$$f\\left(x\\right) = x - \\exp\\left(-2\\sin^{2}\\left(4x\\right)\\right).$$"
   ]
  },
  {
   "cell_type": "markdown",
   "metadata": {},
   "source": [
    "The evaluation trace below shows how the function is broken down into combinations of elementary functions. The table also keeps track of derivatives of each elementary function.\n",
    "\n",
    "| Trace    | Elementary Operation &nbsp;&nbsp;&nbsp;| Derivative &nbsp;&nbsp;&nbsp; | $\\left(f\\left(a\\right), \\space f^{\\prime}\\left(a\\right)\\right)$ &nbsp;&nbsp;&nbsp;&nbsp;&nbsp;&nbsp;&nbsp;&nbsp;&nbsp;&nbsp;&nbsp;&nbsp;&nbsp;&nbsp;&nbsp;&nbsp;&nbsp;&nbsp;&nbsp;&nbsp;&nbsp;&nbsp;&nbsp;&nbsp;&nbsp;&nbsp;&nbsp;&nbsp;&nbsp;&nbsp;&nbsp;&nbsp;&nbsp;&nbsp;&nbsp;&nbsp;&nbsp;|\n",
    "| :------: | :----------------------:               | :------------------------------: | :------------------------------: |\n",
    "| $x_{1}$  | $\\dfrac{\\pi}{16}$                      | $1$                | $\\left(\\dfrac{\\pi}{16}, 1\\right)$ |\n",
    "| $x_{2}$  | $4x_{1}$                               | $4\\dot{x}_{1}$                 | $\\left(\\dfrac{\\pi}{4}, 4\\right)$ |\n",
    "| $x_{3}$  | $\\sin\\left(x_{2}\\right)$               | $\\cos\\left(x_{2}\\right)\\dot{x}_{2}$            | $\\left(\\dfrac{\\sqrt{2}}{2}, 2\\sqrt{2}\\right)$ |\n",
    "| $x_{4}$  | $x_{3}^{2}$                            | $2x_{3}\\dot{x}_{3}$                   | $\\left(\\dfrac{1}{2}, 4\\right)$ |\n",
    "| $x_{5}$  | $-2x_{4}$                              | $-2\\dot{x}_{4}$ | $\\left(-1, -8\\right)$ |\n",
    "| $x_{6}$  | $\\exp\\left(x_{5}\\right)$               | $\\exp\\left(x_{5}\\right)\\dot{x}_{5}$ | $\\left(\\dfrac{1}{e}, - \\dfrac{8}{e}\\right)$ |\n",
    "| $x_{7}$  | $-x_{6}$                               | $-\\dot{x}_{6}$                  | $\\left(-\\dfrac{1}{e}, \\dfrac{8}{e}\\right)$ |\n",
    "| $x_{8}$  | $x_{1} + x_{7}$                        | $\\dot{x}_{1} + \\dot{x}_{7}$ | $\\left(\\dfrac{\\pi}{16} - \\dfrac{1}{e}, 1 + \\dfrac{8}{e}\\right)$ |"
   ]
  },
  {
   "cell_type": "markdown",
   "metadata": {},
   "source": [
    "Therefore, $\\space f^{\\prime}\\left(\\dfrac{\\pi}{16}\\right) = 1 + \\frac{8}{e} = 3.9430355293715385. $"
   ]
  },
  {
   "cell_type": "markdown",
   "metadata": {},
   "source": [
    "A **computational graph** drawn below can be used to visualize the evaluation trace. Each node with incoming edge (arrow) represents an elementary function of the edge's tail node."
   ]
  },
  {
   "cell_type": "markdown",
   "metadata": {
    "collapsed": true
   },
   "source": [
    "![](fig/graph1.png)"
   ]
  },
  {
   "cell_type": "markdown",
   "metadata": {},
   "source": [
    "Using **dual numbers** allows us to represent the derivative of elementary functions without symbolically calculating the derivative. Dual number has a real part and a dual part ($z = x + \\epsilon x^{\\prime}$). If there is function $f(x)$ and $x$ is extended to be $x + \\epsilon x^{\\prime}$, the resulting dual part would contain the derivative of the function. Dual part conveniently vanishes when the order of the dual number is higher than 1, because $\\epsilon^2 = 0$."
   ]
  },
  {
   "cell_type": "markdown",
   "metadata": {},
   "source": [
    "## How to use the package"
   ]
  },
  {
   "cell_type": "markdown",
   "metadata": {},
   "source": [
    "### How to install"
   ]
  },
  {
   "cell_type": "markdown",
   "metadata": {},
   "source": [
    "As of now, our package can be downloaded manually from this link: https://github.com/rajayuco/cs207-FinalProject\n",
    "Users can click on the green \"Clone or Download\" button and then download the zip file manually, or they can also download the package folder by typing the following in the terminal: `git clone https://github.com/rajayuco/cs207-FinalProject.git`. To install external dependencies, the user can navigate to the package directory in terminal and type `pip install -r requirements.txt`.\n",
    "\n",
    "In the future, we will distribute our package through PyPI. Our package can be downloaded by typing the following in the terminal: `pip install autodiffpy`\n"
   ]
  },
  {
   "cell_type": "markdown",
   "metadata": {},
   "source": [
    "### Demo"
   ]
  },
  {
   "cell_type": "markdown",
   "metadata": {},
   "source": [
    "Please see **Implementation** section below for examples of using the package."
   ]
  },
  {
   "cell_type": "markdown",
   "metadata": {},
   "source": [
    "## Software organization"
   ]
  },
  {
   "cell_type": "markdown",
   "metadata": {},
   "source": [
    "* The final module will be structured as follows:\n",
    "    \n",
    "    -autodiffpy\\\n",
    "         -autodiffpy\\\n",
    "              -__init__.py\n",
    "              -autodiff.py\n",
    "              -autodiff_math.py  \n",
    "         -tests\\\n",
    "              -autodiff_test.py\n",
    "              -autodiff_math_test.py\n",
    "         -Examples\\\n",
    "              -data.txt\n",
    "              -sin-cos.py\n",
    "              -linearfunction.py\n",
    "         -Docs\\\n",
    "              -Tutorial.ipynb\n",
    "              -update.md\n",
    "         -README.md\n",
    "         -setup.py\n",
    "         -requirements.txt\n",
    "         -LICENSE\n",
    "\n",
    "\n",
    "* Our modules are organized as below:\n",
    "    * autodiffpy module\n",
    "        * autodiff class (autodiff.py)\n",
    "            * Rewrite elementary functions (such as `__add__`, `__sub__`, `__mul__`, `__truediv__`, etc.) to be able to calculate derivatives on dual numbers\n",
    "            * Also the reverse functions to support commutative elementary operations (`__radd__`, `__rsub__`, `__rmul__`, `__rtruediv__`, etc.)  \n",
    "            * Jacobian methods: Jacobian function that returns matrix representation of the given autodiff instance                   \n",
    "        * autodiff_math module (autodiff_math.py)\n",
    "            * Functions to perform math operations, including exp(), sin(), cos(), tan(), log(), pow() etc "
   ]
  },
  {
   "cell_type": "markdown",
   "metadata": {},
   "source": [
    "### Test suite\n",
    "\n",
    "We will have our test suite in both TravisCI and Coverall, to make use of unit testing which breaking our module methods into pieces, and subjecting each piece to a series of tests the compare the results with what we declared so we can detect when a change has been made and catch potential problems in a discretized granularity.\n",
    "\n",
    "The tests are run on TravisCI, so we simply add our test to a .travis.yml file, which specifies that the test will run during the script whenever a push and merge is made. If this test fails, the build will stop and developers will be noticed by email.\n",
    "\n",
    "Travis CI works parallel with developing by taking the code we have written and committed to GitHub, and then running a series of tests that we’ve defined. Once the tests are done, and the builds are complete, it can push the updates. So instead of running all these tests by hand and then deploying, we now can focus almost entirely on implementation functions which means more time building, less time checking for structural integrity.\n"
   ]
  },
  {
   "cell_type": "markdown",
   "metadata": {},
   "source": [
    "## Implementation"
   ]
  },
  {
   "cell_type": "markdown",
   "metadata": {},
   "source": [
    "### Modules"
   ]
  },
  {
   "cell_type": "markdown",
   "metadata": {},
   "source": [
    "#### autodiff"
   ]
  },
  {
   "cell_type": "markdown",
   "metadata": {},
   "source": [
    "The module **autodiff** will contain two main components: the class *Autodiff* and the method *jacobian*.\n",
    "\n",
    "The *autodiff* class will allow users to generate variables, and then use those variables to form an equation. The class will then perform automatic differentiation on that equation, by (1) calculating the numerical value of that equation, and (2) calculating the numerical value of that functions’ derivatives with respect to those variables.\n"
   ]
  },
  {
   "cell_type": "markdown",
   "metadata": {},
   "source": [
    "To start this process, the user will first initialize each variable of the desired equation separately, as a different instance of the *autodiff* class.  Each instance will require the following inputs:\n",
    "\n",
    "* *name* [string, required]: The name that the user would like to use for this variable.  \n",
    "* *val* [float/numpy matrix, required]: The numerical value/matrix of values that the user would like to assign to this variable.\n",
    "* *der* [float, required; default=1]: The value of this variable’s derivative on its own."
   ]
  },
  {
   "cell_type": "markdown",
   "metadata": {},
   "source": [
    "This initialization will create the following attributes for each instance:\n",
    "\n",
    "* *name* [string]: This stores the given name of the variable.\n",
    "* *der* [dictionary]: This stores the input *der* of the variable."
   ]
  },
  {
   "cell_type": "markdown",
   "metadata": {},
   "source": [
    "The user will then be able to perform mathematical operations on these variables in the form of an equation.  Doing so will return a new instance of the *autodiff* class, which will have the following output attributes relevant to the user:"
   ]
  },
  {
   "cell_type": "markdown",
   "metadata": {},
   "source": [
    "* *val* [number]: This returns the final numerical value of the equation.\n",
    "* *der* [dictionary]: This returns a dictionary that contains the values of the equation’s derivatives, calculated with respect to every single variable encountered in the equation.\n"
   ]
  },
  {
   "cell_type": "markdown",
   "metadata": {},
   "source": [
    "From this returned instance of the *Autodiff* class, the user will therefore have numerical values/matrices of values for both the equation and its derivatives for all variables encountered within the equation.\n"
   ]
  },
  {
   "cell_type": "markdown",
   "metadata": {},
   "source": [
    "Underneath the ‘hood’ of the code, so to speak, the *autodiff* class will contain private dunder methods that the user should not attempt to access.  These methods will override unary and elementary operations (__add__, __sub__, __mul__, __neg__, etc.) and the reverse of those operations (__radd__, __rsub__, __rmul__, etc.).  Each overridden method will calculate the derivatives of the operation with respect to each unique variable key name contained in the variables’ attribute dictionary der.  The overridden methods will then each return a new instance of the *autodiff* class, which will have the updated equation value/matrix of values and derivative values/matrix of values stored in its attributes.\n"
   ]
  },
  {
   "cell_type": "markdown",
   "metadata": {},
   "source": [
    "The example below demonstrates how the user will interact with our *Autodiff* class in our software:"
   ]
  },
  {
   "cell_type": "markdown",
   "metadata": {},
   "source": [
    "```python\n",
    ">>> # Import the Autodiff class\n",
    ">>> from autodiffpy import autodiff as AD\n",
    ">>> # Create variable instances of the class\n",
    ">>> x = AD.autodiff(name=”x”, val=3)\n",
    ">>> y = AD.autodiff(name=”y”, val=-4.5)\n",
    ">>> # Define the equation to evaluate\n",
    ">>> f = x**2 + y - x/y\n",
    ">>> # Output the results (real output won’t have rounded values)\n",
    ">>> print(f.val) # Numerical value of equation\n",
    "5.1667\n",
    ">>> print(f.der[“x”]) # Numerical values of equation’s derivative with respect to \"x\"\n",
    "6.2222\n",
    ">>> print(f.der[“y”]) # Numerical values of equation’s derivative with respect to \"y\"\n",
    "0.8519\n",
    "```"
   ]
  },
  {
   "cell_type": "markdown",
   "metadata": {},
   "source": [
    "The *jacobian* method is within the *autodiff* class and will allow the user to return the derivatives of an instance of the *autodiff* class in numpy array form.\n"
   ]
  },
  {
   "cell_type": "markdown",
   "metadata": {},
   "source": [
    "The below example, which continues from the previous example, demonstrates the operation of the *jacobian* method:\n",
    "\n",
    "```python\n",
    ">>> # Print the previously-calculated derivatives in numpy array form (real output won’t have rounded values)\n",
    ">>> f.jacobian()\n",
    "[['x', 'y'], [6.2222, 0.8519]] #Returned in numpy array form\n",
    "```"
   ]
  },
  {
   "cell_type": "markdown",
   "metadata": {},
   "source": [
    "#### autodiff_math"
   ]
  },
  {
   "cell_type": "markdown",
   "metadata": {},
   "source": [
    "Mathematical operations, exluding simple arithmetic operations, are included in the autodiff_math module. The user will be required to import this module to perform these operations on an autodiff instance, because numpy and other standard math libraries in python will not be able to handle autodiff instances. These operations include trigonmetric functions, logarithmic functions, exponential functions, and power functions. The operations within this module are able to create a new autodiff instance with a properly updated value and an updated list of derivatives.\n",
    "\n",
    "An example of the user interface is below:\n",
    "\n",
    "```python\n",
    "from autodiffpy import autodiff\n",
    "from autodiffpy import autodiff_math as adm\n",
    "\n",
    "x = autodiff('x',5) #creates new autodiff instance\n",
    "f = adm.log(x) #creates a new autodiff instance with the value and derivative of log(x)\n",
    "```\n",
    "\n",
    "The autodiff_math module handles the log function as follows:\n",
    "\n",
    "```python\n",
    "def log(ad, base = math.e):\n",
    "    try:\n",
    "        if ad.val<=0:\n",
    "            raise ValueError('Error: cannot evaluate the log of a nonpositive number')\n",
    "\n",
    "        anew = autodiff.autodiff(name = ad.name, val = math.log(ad.val, base), der = ad.der)\n",
    "\n",
    "        for key in ad.der:\n",
    "            anew.der[key] = ad.der[key]/(ad.val*math.log(base, math.e))\n",
    "        return anew\n",
    "    except AttributeError:\n",
    "        raise AttributeError(\"Error: input should be autodiff instance only.\")\n",
    "```"
   ]
  },
  {
   "cell_type": "markdown",
   "metadata": {},
   "source": [
    "### External Dependencies"
   ]
  },
  {
   "cell_type": "markdown",
   "metadata": {},
   "source": [
    "* Numpy package: for organizing Jacobian array and to calculate sin, log, cos, etc. within the dualnumber methods."
   ]
  },
  {
   "cell_type": "markdown",
   "metadata": {},
   "source": [
    "## Future extension proposal"
   ]
  },
  {
   "cell_type": "markdown",
   "metadata": {},
   "source": [
    "We plan to implement back propagation. Back propagation requires looping through the autodiff class instances that were made, in reverse order. In order to do this, we need to implement a linked list (which will hold the shape of an upside-down tree). Therefore, we will augment the autodiff class such that it can function as a node class. Each autodiff class will have a child node initiated to None, a left_parent node to None, and a right_parent node to None.  Every elementary function performed within the autodiff class uses autodiff classes self and other, while every unary/individual math function performed uses only self. When the function is performed, the new autodiff instance that is created (anew) will have left_parent pointing to self, and (if applicable) right_parent pointing to other. Furthermore, left_parent.child and right_parent.child will point to anew.\n",
    "\n",
    "There will be a new attribute added to the autodiff class which will store the function that was performed (for example, for an addition operation it will store `__add__`).  This will allow all operations encountered within the equation to be repeated in reverse order whenever back propagation is called. This is important in order to calculate the derivatives of these functions when traversing in reverse order. To store these new derivatives, there will be a new attribute named back_der, which will be a dictionary similar to the der attribute.  During back propagation, the module will repeat all operations encountered within the equation in reverse order, and calculate their derivatives evaluated at the value of their child nodes.\n",
    "\n",
    "When performing back propagation, we simply need to recurse through the linked list. We will begin at the last node created, which will have a back_der value of 1. We will then recurse left_parent and right_parent, appending and correcting the value of back_der. We will set the base case (which will define when to stop recursion) to be when both self.left_parent and self.right_parent are None.\n"
   ]
  }
 ],
 "metadata": {
  "kernelspec": {
   "display_name": "Python 3",
   "language": "python",
   "name": "python3"
  },
  "language_info": {
   "codemirror_mode": {
    "name": "ipython",
    "version": 3
   },
   "file_extension": ".py",
   "mimetype": "text/x-python",
   "name": "python",
   "nbconvert_exporter": "python",
   "pygments_lexer": "ipython3",
   "version": "3.6.6"
  }
 },
 "nbformat": 4,
 "nbformat_minor": 2
}
