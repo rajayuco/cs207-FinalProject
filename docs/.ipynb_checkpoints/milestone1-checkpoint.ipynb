{
 "cells": [
  {
   "cell_type": "markdown",
   "metadata": {},
   "source": [
    "# Milestone 1"
   ]
  },
  {
   "cell_type": "markdown",
   "metadata": {},
   "source": [
    "## Introduction"
   ]
  },
  {
   "cell_type": "markdown",
   "metadata": {},
   "source": [
    "Being able to calculate derivatives is crucial for optimization, probabilistic inference, modeling in physics, and much more. However, functions in the real-world are often very complex, and it can be very challenging to calculate the derivative of those functions. Our automatic differentiation (AD) software computes the derivative of any function by breaking the function down into elementary functions and using chain rule (see **Background** for more details). The AD software can automatically calculate the derivatives of any arbitrary order, with a high accuracy to machine precision. The software has many applications, such as in sensitivity analysis, numerical methods, and machine learning. "
   ]
  },
  {
   "cell_type": "markdown",
   "metadata": {},
   "source": [
    "## Background"
   ]
  },
  {
   "cell_type": "markdown",
   "metadata": {},
   "source": [
    "Automatic differentiation is possible because any complicated function can be represented as a combination of **elementary functions**, such as addition, multiplication, exponential function, and trigonometric function. In other words,  $f(x)$ can be represented as $g_{n}(g_{n-1}(g_{n-2}(...g_1(x)))))$, where $g_i(x)$ is the value of the elementary function at x."
   ]
  },
  {
   "cell_type": "markdown",
   "metadata": {},
   "source": [
    "The **chain rule** is then applied to calculate the function's derivative. Recall that using the chain rule, the derivative of function $h\\left(u\\left(t\\right)\\right)$ is $\\dfrac{\\partial h}{\\partial t} = \\dfrac{\\partial h}{\\partial u}\\dfrac{\\partial u}{\\partial t}.$"
   ]
  },
  {
   "cell_type": "markdown",
   "metadata": {},
   "source": [
    "For example, let's say that we want to compute $f^{\\prime}\\left(\\dfrac{\\pi}{16}\\right)$ of a complicated function:\n",
    "$$f\\left(x\\right) = x - \\exp\\left(-2\\sin^{2}\\left(4x\\right)\\right).$$"
   ]
  },
  {
   "cell_type": "markdown",
   "metadata": {},
   "source": [
    "The evaluation trace below shows how the function is broken down into combinations of elementary functions. The table also keeps track of derivatives of each elementary function.\n",
    "\n",
    "| Trace    | Elementary Operation &nbsp;&nbsp;&nbsp;| Derivative &nbsp;&nbsp;&nbsp; | $\\left(f\\left(a\\right), \\space f^{\\prime}\\left(a\\right)\\right)$ &nbsp;&nbsp;&nbsp;&nbsp;&nbsp;&nbsp;&nbsp;&nbsp;&nbsp;&nbsp;&nbsp;&nbsp;&nbsp;&nbsp;&nbsp;&nbsp;&nbsp;&nbsp;&nbsp;&nbsp;&nbsp;&nbsp;&nbsp;&nbsp;&nbsp;&nbsp;&nbsp;&nbsp;&nbsp;&nbsp;&nbsp;&nbsp;&nbsp;&nbsp;&nbsp;&nbsp;&nbsp;|\n",
    "| :------: | :----------------------:               | :------------------------------: | :------------------------------: |\n",
    "| $x_{1}$  | $\\dfrac{\\pi}{16}$                      | $1$                | $\\left(\\dfrac{\\pi}{16}, 1\\right)$ |\n",
    "| $x_{2}$  | $4x_{1}$                               | $4\\dot{x}_{1}$                 | $\\left(\\dfrac{\\pi}{4}, 4\\right)$ |\n",
    "| $x_{3}$  | $\\sin\\left(x_{2}\\right)$               | $\\cos\\left(x_{2}\\right)\\dot{x}_{2}$            | $\\left(\\dfrac{\\sqrt{2}}{2}, 2\\sqrt{2}\\right)$ |\n",
    "| $x_{4}$  | $x_{3}^{2}$                            | $2x_{3}\\dot{x}_{3}$                   | $\\left(\\dfrac{1}{2}, 4\\right)$ |\n",
    "| $x_{5}$  | $-2x_{4}$                              | $-2\\dot{x}_{4}$ | $\\left(-1, -8\\right)$ |\n",
    "| $x_{6}$  | $\\exp\\left(x_{5}\\right)$               | $\\exp\\left(x_{5}\\right)\\dot{x}_{5}$ | $\\left(\\dfrac{1}{e}, - \\dfrac{8}{e}\\right)$ |\n",
    "| $x_{7}$  | $-x_{6}$                               | $-\\dot{x}_{6}$                  | $\\left(-\\dfrac{1}{e}, \\dfrac{8}{e}\\right)$ |\n",
    "| $x_{8}$  | $x_{1} + x_{7}$                        | $\\dot{x}_{1} + \\dot{x}_{7}$ | $\\left(\\dfrac{\\pi}{16} - \\dfrac{1}{e}, 1 + \\dfrac{8}{e}\\right)$ |"
   ]
  },
  {
   "cell_type": "markdown",
   "metadata": {},
   "source": [
    "Therefore, $\\space f^{\\prime}\\left(\\dfrac{\\pi}{16}\\right) = 1 + \\frac{8}{e} = 3.9430355293715385. $"
   ]
  },
  {
   "cell_type": "markdown",
   "metadata": {},
   "source": [
    "A **computational graph** drawn below can be used to visualize the evaluation trace. Each node with incoming edge (arrow) represents an elementary function of the edge's tail node."
   ]
  },
  {
   "cell_type": "markdown",
   "metadata": {
    "collapsed": true
   },
   "source": [
    "![](fig/graph1.png)"
   ]
  },
  {
   "cell_type": "markdown",
   "metadata": {},
   "source": [
    "Using **dual numbers** allows us to represent the derivative of elementary functions without symbolically calculating the derivative. Dual number has a real part and a dual part ($z = x + \\epsilon x^{\\prime}$). If there is function $f(x)$ and $x$ is extended to be $x + \\epsilon x^{\\prime}$, the resulting dual part would contain the derivative of the function. Dual part conveniently vanishs when the order of the dual number is higher than 1, because $\\epsilon^2 = 0$."
   ]
  },
  {
   "cell_type": "markdown",
   "metadata": {},
   "source": [
    "For elementary functions such as exponential, logarithmic, or trigonometric functions, **Taylor series** is used to approximate the function value. \n",
    "\n",
    "\n",
    "Given a smooth function $f : {\\rm I\\!R} \\to {\\rm I\\!R}$, its Taylor series expanded\n",
    "around $a$ is\n",
    "$$\n",
    "\\sum_{n=0}^\\infty \\frac{f^{(n)}(a) \\, (x-a)^n}{n!}\n",
    "$$"
   ]
  }
 ],
 "metadata": {
  "kernelspec": {
   "display_name": "Python 3",
   "language": "python",
   "name": "python3"
  },
  "language_info": {
   "codemirror_mode": {
    "name": "ipython",
    "version": 3
   },
   "file_extension": ".py",
   "mimetype": "text/x-python",
   "name": "python",
   "nbconvert_exporter": "python",
   "pygments_lexer": "ipython3",
   "version": "3.6.5"
  }
 },
 "nbformat": 4,
 "nbformat_minor": 2
}
