{
 "cells": [
  {
   "cell_type": "markdown",
   "metadata": {},
   "source": [
    "# autodiffpy Package Demo"
   ]
  },
  {
   "cell_type": "code",
   "execution_count": 1,
   "metadata": {
    "colab": {
     "base_uri": "https://localhost:8080/",
     "height": 68
    },
    "colab_type": "code",
    "id": "mWyGgsNOwVcN",
    "outputId": "5768aff3-1305-464e-87e6-99b9420641ae",
    "scrolled": true
   },
   "outputs": [
    {
     "name": "stdout",
     "output_type": "stream",
     "text": [
      "Requirement already satisfied: update in c:\\users\\silver\\anaconda2\\envs\\py36\\lib\\site-packages (0.0.1)\n",
      "Requirement already satisfied: autodiffpy==1.2.8 in c:\\users\\silver\\anaconda2\\envs\\py36\\lib\\site-packages (1.2.8)\n",
      "Requirement already satisfied: style==1.1.0 in c:\\users\\silver\\anaconda2\\envs\\py36\\lib\\site-packages (from update) (1.1.0)\n"
     ]
    }
   ],
   "source": [
    "!pip install update autodiffpy==1.2.8\n",
    "\n",
    "# Import packages\n",
    "import pandas as pd\n",
    "import numpy as np\n",
    "import matplotlib.pyplot as graph\n",
    "import autodiffpy.autodiffmod as ad\n",
    "import autodiffpy.autodiff_math as admath\n"
   ]
  },
  {
   "cell_type": "markdown",
   "metadata": {
    "colab": {},
    "colab_type": "code",
    "id": "b6YsuIUowysD"
   },
   "source": [
    "### Part 1: Standard automatic differentiation with elementary operations\n"
   ]
  },
  {
   "cell_type": "code",
   "execution_count": 2,
   "metadata": {
    "colab": {
     "base_uri": "https://localhost:8080/",
     "height": 153
    },
    "colab_type": "code",
    "id": "S_GaOfYwyJ3N",
    "outputId": "545701c7-f9e2-4efa-d9dc-00db6acf48f4"
   },
   "outputs": [
    {
     "name": "stdout",
     "output_type": "stream",
     "text": [
      "value: [ 1.  2.]\n",
      "derivatives:{'x': array([ 1.,  1.])}\n",
      "\n",
      "value: [-5. -3.]\n",
      "derivatives:{'y': array([ 2.,  1.])}\n",
      "\n",
      "value: [ 0.5 -4. ]\n",
      "derivatives:{'z': array([ 1.,  1.])}\n"
     ]
    }
   ],
   "source": [
    "# Create autodiff instances\n",
    "x = ad.autodiff(name='x', val=[1.0, 2.0], der=[1.0, 1.0])\n",
    "y = ad.autodiff(name='y', val=[-5.0, -3.0], der=[2.0, 1.0])\n",
    "z = ad.autodiff(name='z', val=[0.5, -4.0], der=[1.0, 1.0])\n",
    "\n",
    "# Examine each instance\n",
    "print(x)\n",
    "print(\"\")\n",
    "print(y)\n",
    "print(\"\")\n",
    "print(z)\n"
   ]
  },
  {
   "cell_type": "code",
   "execution_count": 3,
   "metadata": {
    "colab": {
     "base_uri": "https://localhost:8080/",
     "height": 153
    },
    "colab_type": "code",
    "id": "cViHxpDmyGuc",
    "outputId": "525a9d63-9741-4b70-a9b6-0088af275024"
   },
   "outputs": [
    {
     "name": "stdout",
     "output_type": "stream",
     "text": [
      "value: [ 0.04        0.44444444]\n",
      "derivatives:{'x': array([ 0.08      ,  0.44444444]), 'y': array([ 0.032    ,  0.2962963])}\n",
      "\n",
      "value: [  3. -12.]\n",
      "derivatives:{'x': array([ 0.5, -4. ]), 'y': array([-2., -1.]), 'z': array([ 2.,  3.])}\n",
      "\n",
      "value: [ 1.          0.00390625]\n",
      "derivatives:{'x': array([ 1.      , -0.015625]), 'z': array([ 0.        ,  0.00541521])}\n"
     ]
    }
   ],
   "source": [
    "# Calculate various functions\n",
    "f1 = (x/y)**2\n",
    "f2 = x*z - 3 - y + z\n",
    "f3 = (x**2)**z\n",
    "\n",
    "# Examine each function\n",
    "print(f1)\n",
    "print(\"\")\n",
    "print(f2)\n",
    "print(\"\")\n",
    "print(f3)\n"
   ]
  },
  {
   "cell_type": "code",
   "execution_count": 4,
   "metadata": {},
   "outputs": [
    {
     "name": "stdout",
     "output_type": "stream",
     "text": [
      "{'jacobian': array([[ 0.5, -4. ],\n",
      "       [-2. , -1. ]]), 'order': ['x', 'y']}\n"
     ]
    }
   ],
   "source": [
    "# Generate jacobian for just two variables\n",
    "print(f2.jacobian(order=['x', 'y']))\n"
   ]
  },
  {
   "cell_type": "code",
   "execution_count": null,
   "metadata": {
    "colab": {},
    "colab_type": "code",
    "collapsed": true,
    "id": "D6kIdgjbxMQ1"
   },
   "outputs": [],
   "source": []
  },
  {
   "cell_type": "markdown",
   "metadata": {
    "colab": {},
    "colab_type": "code",
    "id": "0Veh0ogAy3x8"
   },
   "source": [
    "### Part 2: Standard automatic differentiation with mathematical operations\n"
   ]
  },
  {
   "cell_type": "code",
   "execution_count": 5,
   "metadata": {
    "colab": {
     "base_uri": "https://localhost:8080/",
     "height": 153
    },
    "colab_type": "code",
    "id": "-jf7IaSsy-YG",
    "outputId": "3b917d41-11b8-456b-c3f8-c834bc7dd336"
   },
   "outputs": [
    {
     "name": "stdout",
     "output_type": "stream",
     "text": [
      "value: [ 1.  2.]\n",
      "derivatives:{'x': array([ 1.,  1.])}\n",
      "\n",
      "value: [-5. -3.]\n",
      "derivatives:{'y': array([ 1.,  1.])}\n",
      "\n",
      "value: [ 0.5 -4. ]\n",
      "derivatives:{'z': array([ 1.,  1.])}\n"
     ]
    }
   ],
   "source": [
    "# Create autodiff instances again\n",
    "x = ad.autodiff(name='x', val=[1.0, 2.0], der=[1.0, 1.0])\n",
    "y = ad.autodiff(name='y', val=[-5.0, -3.0], der=[1.0, 1.0])\n",
    "z = ad.autodiff(name='z', val=[0.5, -4.0], der=[1.0, 1.0])\n",
    "\n",
    "# Examine each instance again\n",
    "print(x)\n",
    "print(\"\")\n",
    "print(y)\n",
    "print(\"\")\n",
    "print(z)\n"
   ]
  },
  {
   "cell_type": "code",
   "execution_count": 6,
   "metadata": {
    "colab": {
     "base_uri": "https://localhost:8080/",
     "height": 153
    },
    "colab_type": "code",
    "id": "Or_7y1kczNxK",
    "outputId": "1bed5084-eedb-46b4-8d5b-bf0c94466deb"
   },
   "outputs": [
    {
     "name": "stdout",
     "output_type": "stream",
     "text": [
      "value: [  6.10674521e+00   5.41117210e+04]\n",
      "derivatives:{'x': array([  2.23691171e+01,   9.81625436e+05])}\n",
      "\n",
      "value: [ 10.    -0.75]\n",
      "derivatives:{'y': array([-2.  ,  0.25]), 'z': array([-20.    ,  -0.1875])}\n",
      "\n",
      "value: [ 1.11803399  4.47213595]\n",
      "derivatives:{'x': array([ 0.89442719,  0.4472136 ]), 'z': array([ 0.4472136 , -0.89442719])}\n"
     ]
    }
   ],
   "source": [
    "# Calculate various functions\n",
    "f1 = admath.sinh(admath.cosh(x*np.pi/2.0))\n",
    "f2 = admath.log(admath.exp(-y/z))\n",
    "f3 = admath.sqrt(x**2 + z**2)\n",
    "\n",
    "# Examine each function\n",
    "print(f1)\n",
    "print(\"\")\n",
    "print(f2)\n",
    "print(\"\")\n",
    "print(f3)\n"
   ]
  },
  {
   "cell_type": "code",
   "execution_count": null,
   "metadata": {
    "colab": {},
    "colab_type": "code",
    "collapsed": true,
    "id": "Z22u6WEn0A3Y"
   },
   "outputs": [],
   "source": []
  },
  {
   "cell_type": "markdown",
   "metadata": {
    "colab": {},
    "colab_type": "code",
    "id": "EPGeZK9r0BDr"
   },
   "source": [
    "### Part 3: Exploring derivatives calculated through automatic differentiation\n"
   ]
  },
  {
   "cell_type": "code",
   "execution_count": 7,
   "metadata": {
    "colab": {
     "base_uri": "https://localhost:8080/",
     "height": 1277
    },
    "colab_type": "code",
    "id": "fRW1dg8-0kP7",
    "outputId": "49aa6e39-a44e-4cd5-ad6d-d46e1d50fd83"
   },
   "outputs": [
    {
     "data": {
      "image/png": "[encoded data removed]",
      "text/plain": [
       "<matplotlib.figure.Figure at 0x98a15c0>"
      ]
     },
     "metadata": {},
     "output_type": "display_data"
    }
   ],
   "source": [
    "# Create new autodiff instances\n",
    "numpoints = 100\n",
    "xval = np.linspace(0, 5*np.pi, numpoints)\n",
    "x1 = ad.autodiff(name='x1', val=xval, der=np.ones(numpoints))\n",
    "x2 = ad.autodiff(name='x2', val=xval, der=np.ones(numpoints))\n",
    "\n",
    "# Create a function\n",
    "f1 = 4*admath.sin(x1/2) + 2*admath.cos(x2*3)\n",
    "\n",
    "# Graph first function and its derivative\n",
    "graph.plot(xval, f1.val, color='black', linewidth=3, linestyle='-', label='Sine + Cosine')\n",
    "graph.plot(xval, f1.der['x1'], color='blue', linewidth=3, linestyle='--', label='x1 Derivative')\n",
    "graph.plot(xval, f1.der['x2'], color='red', linewidth=3, linestyle='--', label='x2 Derivative')\n",
    "graph.xlabel('Inputs')\n",
    "graph.ylabel('Outputs')\n",
    "graph.title('Sine + Cosine and its Derivative')\n",
    "graph.legend(loc='best')\n",
    "graph.show()\n"
   ]
  },
  {
   "cell_type": "code",
   "execution_count": 8,
   "metadata": {
    "colab": {
     "base_uri": "https://localhost:8080/",
     "height": 376
    },
    "colab_type": "code",
    "id": "uE9y5w2vy-iY",
    "outputId": "2e1a9517-d8b2-49e4-d2b4-ba0fcdcb675c"
   },
   "outputs": [
    {
     "data": {
      "image/png": "[encoded data removed]",
      "text/plain": [
       "<matplotlib.figure.Figure at 0x98a17f0>"
      ]
     },
     "metadata": {},
     "output_type": "display_data"
    }
   ],
   "source": [
    "# Create new autodiff instances\n",
    "numpoints = 100\n",
    "y = ad.autodiff(name='y', val=np.linspace(0, 10, numpoints), der=np.ones(numpoints))\n",
    "\n",
    "# Create a function\n",
    "f2 = (2*((y - 5)**2) + 3*y - 5)\n",
    "\n",
    "# Graph second function and its derivative\n",
    "graph.plot(y.val, f2.val, color='black', linewidth=3, linestyle='-', label='Quadratic')\n",
    "graph.plot(y.val, f2.der['y'], color='blue', linewidth=3, linestyle='--', label='Derivative')\n",
    "graph.xlabel('Inputs')\n",
    "graph.ylabel('Outputs')\n",
    "graph.title('Quadratic and its Derivative')\n",
    "graph.legend(loc='best')\n",
    "graph.show()\n"
   ]
  },
  {
   "cell_type": "code",
   "execution_count": null,
   "metadata": {
    "colab": {},
    "colab_type": "code",
    "collapsed": true,
    "id": "qy-97qPn16G-"
   },
   "outputs": [],
   "source": []
  },
  {
   "cell_type": "markdown",
   "metadata": {
    "colab": {},
    "colab_type": "code",
    "id": "3jL6enXq0HBd"
   },
   "source": [
    "### Part 4: Gradient descent with MAE loss on noisy linear data\n"
   ]
  },
  {
   "cell_type": "code",
   "execution_count": 9,
   "metadata": {},
   "outputs": [],
   "source": [
    "# Read in and process data file (will be used later in this demo)\n",
    "data = pd.read_csv(\"demo.csv\") # Demo data\n",
    "X_data = data.drop('y', axis = 1) # Input x-data\n",
    "Y_true = data['y'] # Actual y-values\n"
   ]
  },
  {
   "cell_type": "code",
   "execution_count": 10,
   "metadata": {
    "colab": {},
    "colab_type": "code",
    "id": "5OcnYrQf0x8R"
   },
   "outputs": [],
   "source": [
    "# Create initial weights for the data\n",
    "w = ad.autodiff('w', [1 for i in X_data.columns.values]) # Initialize weights to all ones\n",
    "f1 = w*X_data # Functional form\n"
   ]
  },
  {
   "cell_type": "code",
   "execution_count": 11,
   "metadata": {
    "colab": {
     "base_uri": "https://localhost:8080/",
     "height": 231
    },
    "colab_type": "code",
    "id": "v5RTohgC5Cl4",
    "outputId": "1446d6cb-bc4e-4448-beb4-70949f646c64"
   },
   "outputs": [
    {
     "name": "stdout",
     "output_type": "stream",
     "text": [
      "Initial loss: 2.43820865061\n",
      "Final loss: 0.021210588678\n",
      "Final weights: [ 0.32252461 -0.32005991  0.2945301  -0.32906545  0.31026263]\n"
     ]
    },
    {
     "data": {
      "image/png": "[encoded data removed]",
      "text/plain": [
       "<matplotlib.figure.Figure at 0x9ad3b38>"
      ]
     },
     "metadata": {},
     "output_type": "display_data"
    }
   ],
   "source": [
    "# Run MAE-loss gradient descent\n",
    "g = ad.gradient_descent(f1, Y_true, loss='MAE', beta=0.001, max_iter=5000, tol=1E-5)\n",
    "\n",
    "# Print characteristics of this gradient descent\n",
    "print(\"Initial loss:\", g[\"loss_array\"][0])\n",
    "print(\"Final loss:\", g[\"loss_array\"][-1])\n",
    "print(f\"Final weights: {g['w'].val}\")\n",
    "\n",
    "# Graph the loss as a function of iterations\n",
    "xgrid = np.linspace(1, g['num_iter']+1, g[\"num_iter\"])\n",
    "graph.plot(xgrid, g['loss_array'])\n",
    "graph.title('MAE Loss vs. Iteration for Linear Noisy Data')\n",
    "graph.xlabel('Iteration')\n",
    "graph.ylabel('Loss')\n",
    "graph.show()"
   ]
  },
  {
   "cell_type": "code",
   "execution_count": null,
   "metadata": {
    "colab": {},
    "colab_type": "code",
    "collapsed": true,
    "id": "3LjZ2w1U6NcL"
   },
   "outputs": [],
   "source": []
  },
  {
   "cell_type": "markdown",
   "metadata": {
    "colab": {},
    "colab_type": "code",
    "id": "11ixlmLQ6NkA"
   },
   "source": [
    "### Part 5: Gradient descent with MSE loss on noisy logistic data\n"
   ]
  },
  {
   "cell_type": "code",
   "execution_count": 12,
   "metadata": {
    "colab": {},
    "colab_type": "code",
    "id": "7ikmdp9k6Nsa"
   },
   "outputs": [],
   "source": [
    "# Create initial weights for the data\n",
    "w = ad.autodiff('w', [1 for i in X_data.columns.values]) # Initialize weights to all ones\n",
    "f2 = admath.logistic(w*X_data)\n"
   ]
  },
  {
   "cell_type": "code",
   "execution_count": 13,
   "metadata": {
    "colab": {},
    "colab_type": "code",
    "id": "CrCJPClB6kPc"
   },
   "outputs": [
    {
     "name": "stdout",
     "output_type": "stream",
     "text": [
      "Initial loss: 0.643263339221\n",
      "Final loss: 0.0541321240815\n",
      "Final weights: [-0.24665455 -0.68530053 -0.29746136 -0.8148488  -0.25492064]\n"
     ]
    },
    {
     "data": {
      "image/png": "[encoded data removed]",
      "text/plain": [
       "<matplotlib.figure.Figure at 0x9e953c8>"
      ]
     },
     "metadata": {},
     "output_type": "display_data"
    }
   ],
   "source": [
    "# Run MSE-loss gradient descent\n",
    "g = ad.gradient_descent(f2, Y_true, loss='MSE', beta=0.005, max_iter=5000, tol=1E-5)\n",
    "\n",
    "# Print characteristics of this gradient descent\n",
    "print(\"Initial loss:\", g[\"loss_array\"][0])\n",
    "print(\"Final loss:\", g[\"loss_array\"][-1])\n",
    "print(f\"Final weights: {g['w'].val}\")\n",
    "\n",
    "# Graph the loss as a function of iterations\n",
    "xgrid = np.linspace(1, g['num_iter']+1, g[\"num_iter\"])\n",
    "graph.plot(xgrid, g['loss_array'])\n",
    "graph.title('MSE Loss vs. Iteration for Logistic Noisy Data')\n",
    "graph.xlabel('Iteration')\n",
    "graph.ylabel('Loss')\n",
    "graph.show()\n"
   ]
  },
  {
   "cell_type": "code",
   "execution_count": null,
   "metadata": {
    "colab": {},
    "colab_type": "code",
    "collapsed": true,
    "id": "rFP5Ougx6YTK"
   },
   "outputs": [],
   "source": []
  },
  {
   "cell_type": "code",
   "execution_count": null,
   "metadata": {
    "collapsed": true
   },
   "outputs": [],
   "source": []
  }
 ],
 "metadata": {
  "colab": {
   "collapsed_sections": [],
   "name": "autodiffpy_demo.ipynb",
   "provenance": [],
   "version": "0.3.2"
  },
  "kernelspec": {
   "display_name": "Python 3",
   "language": "python",
   "name": "python3"
  },
  "language_info": {
   "codemirror_mode": {
    "name": "ipython",
    "version": 3
   },
   "file_extension": ".py",
   "mimetype": "text/x-python",
   "name": "python",
   "nbconvert_exporter": "python",
   "pygments_lexer": "ipython3",
   "version": "3.6.1"
  }
 },
 "nbformat": 4,
 "nbformat_minor": 1
}
